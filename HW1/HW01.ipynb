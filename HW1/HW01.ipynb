{
 "cells": [
  {
   "cell_type": "markdown",
   "id": "59742dcb",
   "metadata": {},
   "source": [
    "# Homework 1: simulation, and probability\n",
    "\n",
    "*Instructions:*\n",
    "Please answer the following questions and submit your work\n",
    "by editing this jupyter notebook and submitting it on Canvas.\n",
    "Questions may involve math, programming, or neither,\n",
    "but you should make sure to *explain your work*:\n",
    "i.e., you should usually have a cell with at least a few sentences\n",
    "explaining what you are doing."
   ]
  },
  {
   "cell_type": "code",
   "execution_count": 1,
   "id": "27d38377-e1e8-4122-af96-237ea205d3b9",
   "metadata": {},
   "outputs": [],
   "source": [
    "import numpy as np\n",
    "rng = np.random.default_rng()"
   ]
  },
  {
   "cell_type": "markdown",
   "id": "c5010ae3-10b9-48fb-9a72-3bc232e6970c",
   "metadata": {
    "editable": true,
    "slideshow": {
     "slide_type": ""
    },
    "tags": []
   },
   "source": [
    "# 1. Probabilities and expectations\n",
    "\n",
    "Find the following quantities, both by (i) *math* and by (ii) *simulation*,\n",
    "for the independent random variables\n",
    "$$\\begin{aligned}\n",
    "N &\\sim \\text{Poisson}(\\text{mean}=2) \\\\\n",
    "T &\\sim \\text{Exponential}(\\text{mean}=5) \\\\\n",
    "X &\\sim \\text{Normal}(\\text{mean}=10, \\text{sd}=3) .\n",
    "\\end{aligned}$$\n",
    "\n",
    "For instance, if asked to find the probability that $N=0$\n",
    "then you might [consult Wikipedia](https://en.wikipedia.org/wiki/Poisson_distribution),\n",
    "and so report that (i) this is\n",
    "$$\\mathbb{P}\\{N = 0\\} = e^{-\\lambda} = e^{-2}$$\n",
    "and to verify this (ii)"
   ]
  },
  {
   "cell_type": "code",
   "execution_count": 2,
   "id": "cc8cdd6f-9754-4da6-9892-f077f05fc6b8",
   "metadata": {
    "editable": true,
    "slideshow": {
     "slide_type": ""
    },
    "tags": []
   },
   "outputs": [
    {
     "name": "stdout",
     "output_type": "stream",
     "text": [
      "Simulation: 0.135517, theory: 0.1353352832366127\n"
     ]
    }
   ],
   "source": [
    "N = rng.poisson(lam=2, size=1000000)\n",
    "print(f\"Simulation: {np.mean(N == 0)}, theory: {np.exp(-2)}\")"
   ]
  },
  {
   "cell_type": "markdown",
   "id": "231519de",
   "metadata": {},
   "source": [
    "Note you should include a comparison of the numerical value produced by your mathematical expression,\n",
    "and reference to any properties of random variables used in the calculations.\n",
    "\n",
    "**a.** The probability that $T < 4$.\n",
    "\n",
    "**b.** The standard deviation of $T + X$.\n",
    "\n",
    "**c.** The expected value of $2X + 1$.\n",
    "\n",
    "**d.** The expected value of $NT$ (i.e., the product of $N$ and $T$)."
   ]
  },
  {
   "cell_type": "code",
   "execution_count": 3,
   "id": "d69a6ec3",
   "metadata": {},
   "outputs": [
    {
     "name": "stdout",
     "output_type": "stream",
     "text": [
      "Simulation: 0.551167, theory: 0.5506710358827784\n",
      "Simulation: 5.822060010455161, theory: 5.830951894845301\n",
      "Simulation: 20.9958408788136, theoretical: 21\n",
      "Simulation: 10.005746706268148, theoretical: 10\n"
     ]
    }
   ],
   "source": [
    "# Set up the RNG\n",
    "rng = np.random.default_rng()\n",
    "'''1A)'''\n",
    "# Simulate Exponential(mean=5), so scale=5\n",
    "T = rng.exponential(scale=5, size=1_000_000)\n",
    "Asimulatedmean = np.mean(T < 4)\n",
    "# Theoretical probability\n",
    "Atheoretical_T = 1 - np.exp(-4 / 5)\n",
    "print(f\"Simulation: {Asimulatedmean}, theory: {Atheoretical_T}\")\n",
    "\n",
    "'''1B)'''\n",
    "#Simulate standard dev(mean = 10, std = 3)\n",
    "X = rng.normal(loc=10, scale=3, size=1_000_000)\n",
    "# Simulate T + X and calculate std\n",
    "Bsimulated_std = np.std(T + X)\n",
    "# Theoretical standard deviation\n",
    "Btheoretical_std = np.sqrt(25 + 9)\n",
    "print(f\"Simulation: {Bsimulated_std}, theory: {Btheoretical_std}\")\n",
    "\n",
    "'''1C)'''\n",
    "#Simulate expected value(x)\n",
    "X = rng.normal(loc=10, scale=3, size=1_000_000)\n",
    "# Simulated expected value\n",
    "Csimulated_mean = np.mean(2 * X + 1)\n",
    "# Theoretical expected value\n",
    "Ctheoretical_mean = 2 * 10 + 1\n",
    "print(f\"Simulation: {Csimulated_mean}, theoretical: {Ctheoretical_mean}\")\n",
    "\n",
    "'''1D)'''\n",
    "# Simulate N ~ Poisson(2)\n",
    "N = rng.poisson(lam=2, size=1_000_000)\n",
    "# Simulate T ~ Exponential(mean=5)\n",
    "T = rng.exponential(scale=5, size=1_000_000)\n",
    "# Simulated expected value\n",
    "Dsimulated_mean = np.mean(N * T)\n",
    "# Theoretical expected value\n",
    "Dtheoretical_mean = 2 * 5\n",
    "print(f\"Simulation: {Dsimulated_mean}, theoretical: {Dtheoretical_mean}\")\n",
    "\n"
   ]
  },
  {
   "cell_type": "markdown",
   "id": "0a64ae8c",
   "metadata": {},
   "source": [
    "## 2. Ascending sums\n",
    "\n",
    "For each $i \\ge 1$, Let $D_i$ be a random number drawn\n",
    "independently and uniformly from $\\{1, 2, 3, 4, 5, 6\\}$.\n",
    "Let $$ K = \\min\\{ k \\ge 1 \\;:\\; D_k + D_{k+1} = 7 \\} , $$\n",
    "i.e., $K$ is defined by the fact that\n",
    "$D_{K}$ and $D_{K+1}$ are the first pair of adjacent rolled numbers\n",
    "that add up to 7.\n",
    "Finally, let\n",
    "$$ X = \\sum_{i=1}^K D_i . $$\n",
    "\n",
    "**a.** Describe in words how to simulate $X$ using fair dice.\n",
    "\n",
    "**b.** Write a function to simulate $X$ (in python).\n",
    "    The function should have one argument, `size`,\n",
    "    that determines the number of independent samples of $X$ that are returned.\n",
    "\n",
    "**c.** Make a plot describing the distribution of $X$, and estimate its mean (by simulating at least $10^5$ values)."
   ]
  },
  {
   "cell_type": "markdown",
   "id": "871bc836",
   "metadata": {
    "editable": true,
    "slideshow": {
     "slide_type": ""
    },
    "tags": []
   },
   "source": [
    "#2\n",
    "##a. To simulate X, \n",
    "1. Roll dice one at a time(in order to simulate them independently)\n",
    "\n",
    "2. Store each value as an integer\n",
    "\n",
    "3. After each roll (starting from second), check if the sum of the current and previous roll equals 7.\n",
    "\n",
    "4. Stop as soon as you find such a pair.\n",
    "\n",
    "5. Add up all the dice rolled up to and including the first die of that pair — this sum is your value of X."
   ]
  },
  {
   "cell_type": "code",
   "execution_count": 5,
   "id": "ea74329e",
   "metadata": {},
   "outputs": [
    {
     "data": {
      "image/png": "[encoded data removed]",
      "text/plain": [
       "<Figure size 640x480 with 1 Axes>"
      ]
     },
     "metadata": {},
     "output_type": "display_data"
    },
    {
     "name": "stdout",
     "output_type": "stream",
     "text": [
      "Estimated mean of X: 20.871\n"
     ]
    }
   ],
   "source": [
    "\n",
    "##b\n",
    "import numpy as np\n",
    "import matplotlib.pyplot as plt\n",
    "'''B'''\n",
    "#simulate X for some int size\n",
    "def simulate_X(size=1):\n",
    "    results = []\n",
    "    #each session independently size times\n",
    "    for _ in range(size):\n",
    "        rolls = []\n",
    "        #this ensures the dice rolls are independent\n",
    "        while True:\n",
    "            roll = np.random.randint(1, 7)  # Roll from 1 to 6\n",
    "            rolls.append(roll)\n",
    "            if len(rolls) >= 2 and rolls[-1] + rolls[-2] == 7:\n",
    "                break\n",
    "        X = sum(rolls[:-1])  # sum up to and including D_K (i.e., rolls[:-1])\n",
    "        results.append(X)\n",
    "\n",
    "    return np.array(results)\n",
    "'''B'''\n",
    "# Simulate many values of X\n",
    "samples = simulate_X(size=10**5)\n",
    "\n",
    "# Plot the distribution\n",
    "plt.hist(samples, bins=range(min(samples), max(samples)+1), edgecolor='black', density=True)\n",
    "plt.title(\"Distribution of X\")\n",
    "plt.xlabel(\"Value of X\")\n",
    "plt.ylabel(\"Probability\")\n",
    "plt.grid(True)\n",
    "plt.show()\n",
    "\n",
    "# Estimate the mean\n",
    "mean_X = np.mean(samples)\n",
    "print(f\"Estimated mean of X: {mean_X:.3f}\")\n"
   ]
  }
 ],
 "metadata": {
  "celltoolbar": "Tags",
  "kernelspec": {
   "display_name": "Python 3",
   "language": "python",
   "name": "python3"
  },
  "language_info": {
   "codemirror_mode": {
    "name": "ipython",
    "version": 3
   },
   "file_extension": ".py",
   "mimetype": "text/x-python",
   "name": "python",
   "nbconvert_exporter": "python",
   "pygments_lexer": "ipython3",
   "version": "3.10.15"
  }
 },
 "nbformat": 4,
 "nbformat_minor": 5
}
