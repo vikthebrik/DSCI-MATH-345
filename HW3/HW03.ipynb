{
 "cells": [
  {
   "cell_type": "markdown",
   "id": "59742dcb",
   "metadata": {},
   "source": [
    "# Homework 3: Fitting and modeling\n",
    "\n",
    "*Instructions:*\n",
    "Please answer the following questions and submit your work\n",
    "by editing this jupyter notebook and submitting it on Canvas.\n",
    "Questions may involve math, programming, or neither,\n",
    "but you should make sure to *explain your work*:\n",
    "i.e., you should usually have a cell with at least a few sentences\n",
    "explaining what you are doing.\n",
    "\n",
    "Also, please be sure to always specify units of any quantities that have units,\n",
    "and label axes of plots (again, with units when appropriate)."
   ]
  },
  {
   "cell_type": "code",
   "execution_count": 1,
   "id": "03fe74bf",
   "metadata": {},
   "outputs": [],
   "source": [
    "import numpy as np\n",
    "import matplotlib.pyplot as plt\n",
    "rng = np.random.default_rng()"
   ]
  },
  {
   "cell_type": "markdown",
   "id": "2c9acde6",
   "metadata": {},
   "source": [
    "# 1. Poisson, no limits\n",
    "\n",
    "Suppose that $X_1, X_2, \\ldots$ are independent draws from the Poisson(1) distribution.\n",
    "Let $p_n$ be the probability that the sum of $n$ of these is more than $n + \\sqrt{n}/2$:\n",
    "$$p_n = \\mathbb{P}\\{ X_1 + \\cdot + X_n > n + \\sqrt{n}/2 \\}.$$\n",
    "In class we learned that for large $n$, that $p_n$ would be close to some value\n",
    "(and, closer the larger $n$ is).\n",
    "What is that value?\n",
    "Justify your answer and check by simulation."
   ]
  },
  {
   "cell_type": "markdown",
   "id": "758a64d1",
   "metadata": {},
   "source": [
    "The sum of n independent Poisson(1) variables is: \n",
    "$S_n = X_n + ... + X_n ~$ Poisson(n)\n",
    "\n",
    "But for large n, the CLT changes the probability :\n",
    "$p_n = P(S_n > n + \\Large\\frac{\\sqrt{n}}{2}) = P(\\Large\\frac{S_n - n}{\\sqrt{n}} > \\frac{1}{2}) \\approx P(Z > 0.5) ,   Z ~ N(0, 1)$\n",
    "\n",
    "Then we use the Normal CDF:\n",
    "$P(Z > 0.5) = 1 - \\Phi(0.5) \\approx 1 - 0.6915 = 0.3085$\n",
    "\n",
    "So as $ n \\rightarrow \\infty, p_n \\rightarrow  0.3085$"
   ]
  },
  {
   "cell_type": "code",
   "execution_count": 15,
   "id": "4f3f938b",
   "metadata": {},
   "outputs": [
    {
     "name": "stdout",
     "output_type": "stream",
     "text": [
      "Estimated p_n for n = 1000: 0.3082\n"
     ]
    }
   ],
   "source": [
    "# Parameters\n",
    "n = 1000\n",
    "num_trials = 100000\n",
    "threshold = n + np.sqrt(n) / 2  # this is the upper bound in the probability\n",
    "\n",
    "# Simulate 100000 trials of Poisson(1) values, each trial of length n=1000\n",
    "samples = rng.poisson(1, size=(num_trials, n))\n",
    "\n",
    "# Compute the sum of each trial (row)\n",
    "sums = samples.sum(axis=1)\n",
    "\n",
    "# Count how many sums exceed the threshold\n",
    "count_exceed = np.sum(sums > threshold)\n",
    "\n",
    "# Estimate probability\n",
    "pn_estimate = count_exceed / num_trials\n",
    "\n",
    "print(f\"Estimated p_n for n = {n}: {pn_estimate:}\")\n"
   ]
  },
  {
   "cell_type": "markdown",
   "id": "910783d4",
   "metadata": {},
   "source": [
    "# 2. Fly-by flies\n",
    "\n",
    "At harvest time, orchards can have a lot of fruit flies.\n",
    "Suppose that I sit down to eat lunch in an orchard\n",
    "while flies go zipping by at an average rate of 5 per second.\n",
    "Most of them manage to avoid my sandwich, but a small proportion hit the sandwich\n",
    "(and get stuck): about 0.5%.\n",
    "(Below when I ask you to \"justify\",\n",
    "you can refer to material from class for the justification,\n",
    "I don't mean you need to provide a mathematical proof.)\n",
    "\n",
    "*(a)* About how often does a fly hit my sandwich?\n",
    "Propose, and justify a distribution for $T$,\n",
    "the amount of time that passes between subsequent flies\n",
    "who hit my sandwich.\n",
    "(Assume I don't do anything to avoid the flies or change the proportion who hit it.)\n",
    "\n",
    "*(b)* Suppose it takes me 5 minutes to eat the sandwich.\n",
    "How many flies have hit the sandwich during that time\n",
    "(again assuming the proportion who hit it does not change as I eat).\n",
    "Propose, and justify, a distribution for this number (let's call it $X$).\n",
    "What's the probability that $X=0$?\n",
    "\n",
    "*(c)* My friend prefers to eat their sandwich with a few flies in it.\n",
    "How long will it be before their sandwich has been hit by at least five flies?\n",
    "(Assume their sandwich is otherwise just like mine.)\n",
    "Using simulation,\n",
    "find the mean and describe the\n",
    "distribution using a histogram or other summary.\n",
    "*(hint: use your answer to (a) to simulate)*"
   ]
  },
  {
   "cell_type": "markdown",
   "id": "1c2ed3d1",
   "metadata": {},
   "source": [
    "###a.\n",
    "Our scenario has indpependent rare events(flies hitting sandwich), and our model needs to measure the amount of time between these rare events, so we use the Exponential Distribution. Our value for $\\lambda$ is calculated by finding the rate of which flies actually hit the sandwich, so:\n",
    "\n",
    " $\\lambda = 5 \\times 0.005 = 0.025$\n",
    "\n",
    "For a distribution of T, a the time between flies is,\n",
    "\n",
    "$T \\approx$ Exponential $(0.025)$ \n",
    "\n",
    "The expected time is:\n",
    "\n",
    "$\\mathbf{E}(T) = \\frac{1}{0.025} = 40$ seconds\n",
    "\n",
    "###b\n",
    "The effective rate of fly hits is:\n",
    "\n",
    "$\\lambda = 5$ flies/sec *  $0.005 = 0.025$ hits/sec\n",
    "\n",
    "Over 300 sec:\n",
    "\n",
    "expected # of hits is $\\mu = \\lambda * t = 0.025 * 300 = 7.5$ flies in 5 minutes(300 seconds)\n",
    "\n",
    "So $X \\approx Poisson(7.5)$\n",
    "\n",
    "For the probability that X = 0:\n",
    "\n",
    "Using the Probability Mass Function:\n",
    "$\\mathbb{P}(X = 0) = \\Large\\frac{7.5^0 * e^{-7.5}}{0!} = e^{-7.5} \\approx 0.0006$\n",
    "\n",
    "The simulation is below. \n",
    "\n",
    "###c\n",
    "Here, we use the Gamma distrubution model since we are simulating the sum of 5 independent Exponential(0.025) values with these parameters: \n",
    "\n",
    "Time between hits is:\n",
    "\n",
    "$T_i \\approx Exponential(\\lambda = 0.025)$\n",
    "\n",
    "\n",
    "Total time to 5 hits is:\n",
    "\n",
    "$T_total = T_1 + T_2 + T_3 + T_4 + T_5 \\approx Gamma(5, \\lambda)$\n",
    "\n",
    "Mean:\n",
    "\n",
    "$\\mathbb{E}_{total} = 5 * \\frac{1}{0.025} = 200$ seconds\n",
    "\n",
    "The expected mean time is around 200 seconds, and the shape of the dist. is skewed right, but increasingly symmetric as number of hits increases.\n",
    "\n",
    "The simulation is below. "
   ]
  },
  {
   "cell_type": "code",
   "execution_count": 36,
   "id": "a53dc681",
   "metadata": {},
   "outputs": [
    {
     "name": "stdout",
     "output_type": "stream",
     "text": [
      "Question 2b\n",
      "P(X = 0) ≈ 0.0006\n",
      "Question 2c\n",
      "Estimated mean time for 5 hits: 200.31 seconds\n"
     ]
    },
    {
     "data": {
      "image/png": "[encoded data removed]",
      "text/plain": [
       "<Figure size 640x480 with 1 Axes>"
      ]
     },
     "metadata": {},
     "output_type": "display_data"
    }
   ],
   "source": [
    "\n",
    "print(\"Question 2b\")\n",
    "print(f\"P(X = 0) ≈ {np.exp(-7.5):.4f}\")\n",
    "\n",
    "print(\"Question 2c\")\n",
    "# Set parameters\n",
    "num_trials = 100000\n",
    "rate = 0.025  # λ\n",
    "num_hits = 5\n",
    "\n",
    "# Simulate: for each trial, sum of 5 exponential waiting times\n",
    "wait_times = rng.exponential(scale=1/rate, size=(num_trials, num_hits))\n",
    "total_times = wait_times.sum(axis=1)\n",
    "\n",
    "# Compute mean time\n",
    "mean_time = np.mean(total_times)\n",
    "print(f\"Estimated mean time for 5 hits: {mean_time:.2f} seconds\")\n",
    "\n",
    "# Plot histogram\n",
    "plt.hist(total_times, bins=100, density=True, alpha=0.7, color='skyblue')\n",
    "plt.title(\"Distribution of Time Until 5 Flies Hit the Sandwich\")\n",
    "plt.xlabel(\"Time (seconds)\")\n",
    "plt.ylabel(\"Density\")\n",
    "plt.grid(True)\n",
    "plt.show()\n",
    "\n"
   ]
  },
  {
   "cell_type": "markdown",
   "id": "f83fcfa0",
   "metadata": {},
   "source": [
    "###a\n",
    "Let $X_1 , X_2,..., X_100$ be the yearly growths\n",
    "That means our total growth can be shown as:\n",
    "\n",
    "$S_{100} = \\Large\\Sigma^{100}_{i=1} X_i$\n",
    "\n",
    "The variables are independent, so the sum has:\n",
    "\n",
    "$\\mathbb{E}[S_{100}] = 100 * 2 = 200$ cm\n",
    "\n",
    "SD $[S_{100}] = \\sqrt{100 * 2^2} = \\sqrt{400} = 20$ cm\n",
    "\n",
    "By the Central Limit Theorem(CLT), for large n, the sum is approx Normal:\n",
    "\n",
    "$S_{100} \\approx N(200, 20^{20}) \\approx N(200 cm, 400cm^2) $\n",
    "\n",
    "We can do the same calc for 10,000\n",
    "\n",
    "$\\mathbb{E}[S_{10000}] = 10000 * 2 = 20000$ cm = 200m\n",
    "\n",
    "SD $[S_{10000}] = \\sqrt{10000 * 2^2} = \\sqrt{40000} = 20$ cm = 2m\n",
    "\n",
    "\n",
    "$S_{100} \\approx N(200m, 2^2) \\approx N(200m, m^2)$\n",
    "\n",
    "###b\n",
    "For 100 Years: ($S_{100} > 220$ cm)\n",
    "\n",
    "Standardize using the Z - score formula:\n",
    "\n",
    "$Z = \\frac{X - \\mu}{\\sigma}$. \n",
    "\n",
    "Plug in values $X = 220, \\mu = 200, \\sigma = 20$.\n",
    "\n",
    "$Z = 1$ , so $\\mathbb{P}(Z > 1) \\approx 0.1587$\n",
    "\n",
    "This means 15.87% of mountains will grow more than 220cm in 100 years.\n",
    "\n",
    "For 10000 years ($S_{10000} > 220$ m): Same Steps:\n",
    "\n",
    "Plug in values $X = 220, \\mu = 200, \\sigma = 2$ \n",
    "\n",
    "Z = 10 , so $\\mathbb{P}(Z > 10) \\approx 0.000000000001$\n",
    "\n",
    "This means about 0%(approx) of mountains will grow more than 220m in 10,000 years.\n",
    "\n",
    "###c\n",
    "Expected Value:\n",
    "\n",
    "$\\mathbb{E}[S] = \\Large\\Sigma^{100}_{y = 1} \\mathbb{E}[X_y] = \\Large\\Sigma \\frac{y}{40} = \\frac{1}{40} \\Large\\Sigma^{100}_{y = 1} y = \\frac{1}{40} * \\frac{100 * 101}{2} = \\frac{5050}{40} = 126.25$ cm\n",
    "\n",
    "Variance/Standard Deviation\n",
    "\n",
    "$Var(S) = \\Large\\Sigma^{100}_{y=1}(\\frac{y}{50})^2 = \\frac{1}{2500} \\Large\\Sigma^{100}_{y=1} y^2 = \\frac{100 * 101 * 201}{6} = 338350$\n",
    "\n",
    "Then:\n",
    "$Var(S) = \\frac{338350}{2500} = 135.35 \\rightarrow SD(S) = \\sqrt{135.34} \\approx 11.64$ cm\n",
    "\n",
    "This means:\n",
    "\n",
    "* Mean growth after 100 years = 126.25cm\n",
    "* Standard Deviation after 100 years = 11.64cm"
   ]
  },
  {
   "cell_type": "markdown",
   "id": "c5590d09",
   "metadata": {},
   "source": [
    "# 3. Orogeny\n",
    "\n",
    "Converging tectonic plates are pushing a mountain range upwards.\n",
    "Suppose that each year, a given mountain peak grows by a random amount whose average is 2cm and whose SD is 2cm.\n",
    "\n",
    "*(a)* If the amount grown each year is independent of every other year,\n",
    "what's the distribution, approximately, of the amount grown over 100 years (relative to the starting height)?\n",
    "What about over 10,000 years?\n",
    "\n",
    "*(b)* Suppose many mountains in this mountain range grow like this (independently).\n",
    "What proportion of them grow more than 220cm over 100 years?\n",
    "And, what proportion grow more than 220m over 10,000 years?\n",
    "\n",
    "*(c)* In fact, the orogeny is accellerating.\n",
    "Suppose that in fact over the next 100 years, the mean amount grown is in year $y$ is $y/40$ cm, with a SD of $y/50$ cm.\n",
    "What is the mean height change after those 100 years? Explain your answer.\n",
    "Also compute the standard deviation assuming that the amount grown each year is independent."
   ]
  },
  {
   "cell_type": "code",
   "execution_count": 37,
   "id": "8021b6f2-c436-400b-828f-2c46ebf13abe",
   "metadata": {},
   "outputs": [
    {
     "data": {
      "text/plain": [
       "(np.float64(126.25), np.float64(135.34))"
      ]
     },
     "execution_count": 37,
     "metadata": {},
     "output_type": "execute_result"
    }
   ],
   "source": [
    "np.sum(np.arange(101)) / 40, np.sum(np.arange(101)**2) / 50**2\n"
   ]
  },
  {
   "cell_type": "code",
   "execution_count": 38,
   "id": "39b22a68-07c9-4117-8c4b-2858538a59d6",
   "metadata": {},
   "outputs": [
    {
     "data": {
      "text/plain": [
       "np.float64(11.633572108342305)"
      ]
     },
     "execution_count": 38,
     "metadata": {},
     "output_type": "execute_result"
    }
   ],
   "source": [
    "np.sqrt(np.sum(np.arange(101)**2) / 50**2)"
   ]
  }
 ],
 "metadata": {
  "celltoolbar": "Tags",
  "kernelspec": {
   "display_name": "Python 3",
   "language": "python",
   "name": "python3"
  },
  "language_info": {
   "codemirror_mode": {
    "name": "ipython",
    "version": 3
   },
   "file_extension": ".py",
   "mimetype": "text/x-python",
   "name": "python",
   "nbconvert_exporter": "python",
   "pygments_lexer": "ipython3",
   "version": "3.10.15"
  }
 },
 "nbformat": 4,
 "nbformat_minor": 5
}
