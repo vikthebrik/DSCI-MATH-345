{
 "cells": [
  {
   "cell_type": "code",
   "execution_count": 5,
   "id": "ecb76166-e140-4a15-8f96-d41e5b615c17",
   "metadata": {
    "editable": true,
    "slideshow": {
     "slide_type": ""
    },
    "tags": []
   },
   "outputs": [],
   "source": [
    "import numpy as np"
   ]
  },
  {
   "cell_type": "markdown",
   "id": "38df0577-cdf5-4d9d-9d30-133fc0c929ae",
   "metadata": {},
   "source": [
    "**Question:** \n",
    "\n",
    "Give examples from your week of quantities that might be reasonably modeled as random draws from the following distributions:\n",
    "\n",
    "(a) Binomial (b) Normal (c) Poisson (d) Exponential\n",
    "\n",
    "In each case, give example parameter values (i.e., for (a), say what $n$ and $p$ are in your example)."
   ]
  },
  {
   "cell_type": "markdown",
   "id": "abf769d9-8af1-4dd3-aab9-4f6f14d7457f",
   "metadata": {
    "slideshow": {
     "slide_type": ""
    },
    "tags": []
   },
   "source": [
    "**Question:** (expected value)\n",
    "\n",
    "Suppose that $X$ is a random variable with \n",
    "$\\mathbb{P}\\{X=0\\} = 3/5$,\n",
    "and \n",
    "$\\mathbb{P}\\{X=5\\} = 1/5$,\n",
    "and\n",
    "$\\mathbb{P}\\{X=10\\} = 1/5$.\n",
    "Find the mean and variance of $X$."
   ]
  },
  {
   "cell_type": "markdown",
   "id": "1ae299dd-f68d-49af-9c12-7f978517da40",
   "metadata": {
    "slideshow": {
     "slide_type": ""
    },
    "tags": []
   },
   "source": [
    "**Question:** (gamma; additivity of means and variances)\n",
    "\n",
    "We learned that if $T_1, \\ldots, T_k$ are independent Exponential random variables\n",
    "with scale $m$,\n",
    "then\n",
    "$$Y = T_1 + \\cdots + T_k$$\n",
    "has a Gamma(shape=$k$, scale=$m$) distribution.\n",
    "Using this fact, find the mean and variance of the Gamma(shape=$k$, scale=$m$) distribution.\n",
    "*(Note: the Exponential distribution with scale $m$ has mean $m$ and variance $m^2$.)*"
   ]
  },
  {
   "cell_type": "markdown",
   "id": "a7b4c86a-0bb9-49ed-b571-33ff0240ee1e",
   "metadata": {
    "slideshow": {
     "slide_type": ""
    },
    "tags": []
   },
   "source": [
    "**Question:** (method of moments)\n",
    "\n",
    "I have counted up the number of times the word \"steed\" appears\n",
    "on each page of a long book.\n",
    "The average number of times it appears per page across the book is 0.2.\n",
    "Let $X$ denote the number of times the word \"steed\" appears on a randomly chosen page in the book.\n",
    "What is a distribution that might be a good fit for $X$?\n",
    "Justify your choice, including the method used to pick the parameter(s)."
   ]
  },
  {
   "cell_type": "markdown",
   "id": "29ba45dd-03d2-470e-80a4-76dfbeb71145",
   "metadata": {
    "slideshow": {
     "slide_type": ""
    },
    "tags": []
   },
   "source": [
    "**Question:**\n",
    "\n",
    "Suppose we have $n$ observations whose mean $\\bar x$ and whose standard deviation is $s$,\n",
    "and that we suppose these come from a Normal(mean=$\\mu$, sd=$\\sigma$) distribution.\n",
    "What is the difference between\n",
    "$$ z = (\\bar x - \\mu) / (\\sigma / \\sqrt{n}), $$\n",
    "and \n",
    "$$ t = (\\bar x - \\mu) / (s / \\sqrt{n}) $$\n",
    "-- explain the difference and say what their distributions are."
   ]
  },
  {
   "cell_type": "markdown",
   "id": "ecee28d1-157c-492c-b009-2085610d06ec",
   "metadata": {
    "slideshow": {
     "slide_type": ""
    },
    "tags": []
   },
   "source": [
    "**Question:** (additivity of means)\n",
    "\n",
    "I play ten games at the carnival.\n",
    "On the $k$th game I have probability $1/(k+1)$ of winning and if I win I get \\\\$$k+1$\n",
    "(so, I win the first game with probability 1/2, and if I win I get \\$2).\n",
    "What is my expected total winnings?"
   ]
  },
  {
   "cell_type": "markdown",
   "id": "0a2f86f3-5420-4f28-87a5-8f327de0504f",
   "metadata": {
    "slideshow": {
     "slide_type": ""
    },
    "tags": []
   },
   "source": [
    "**Question:** (multivariate model)\n",
    "\n",
    "Suppose that we have data $Y_1, \\ldots, Y_n$\n",
    "and $(X_{11}, X_{12}, X_{13}), \\ldots, (X_{n1}, X_{n2})$,\n",
    "and we use the data to fit the following model by maximum likelihood:\n",
    "$$\\begin{aligned}\n",
    "Y_i \\sim \\text{Normal}(\\text{mean}=b_0 + b_1 X_{i1} + b_2 X_{i2}, \\text{sd}=\\sigma^2) .\n",
    "\\end{aligned}$$\n",
    "Suppose that $(b_0, b_1, b_2)$\n",
    "are the maximum likelihood estimates we obtain.\n",
    "Write down the expression in terms of the data that $(b_0, b_1, b_2)$ minimizes."
   ]
  },
  {
   "cell_type": "markdown",
   "id": "628ba35a-9b57-4326-8bac-bece5b45e9b3",
   "metadata": {
    "slideshow": {
     "slide_type": ""
    },
    "tags": []
   },
   "source": [
    "**Question:** (GLMs)\n",
    "\n",
    "Write down the model we use when we fit a \"Poisson GLM with a log link function\"."
   ]
  },
  {
   "cell_type": "markdown",
   "id": "e17d790a-e9d8-4915-98a4-44543d919501",
   "metadata": {
    "slideshow": {
     "slide_type": ""
    },
    "tags": []
   },
   "source": [
    "**Question:** (p-value)\n",
    "\n",
    "Give a definition of a $p$-value."
   ]
  },
  {
   "cell_type": "markdown",
   "id": "51429c8c-0515-4474-8615-ad85f91684bc",
   "metadata": {
    "slideshow": {
     "slide_type": ""
    },
    "tags": []
   },
   "source": [
    "**Question:** (confidence interval)\n",
    "\n",
    "Suppose we are testing the effectiveness of a new vaccine for preventing a disease.\n",
    "What does a confidence interval for the vaccine's effectivenss tell you that a $p$-value does not?"
   ]
  },
  {
   "cell_type": "markdown",
   "id": "a7d79b95-527a-447a-b5ed-b5e195621cba",
   "metadata": {
    "slideshow": {
     "slide_type": ""
    },
    "tags": []
   },
   "source": [
    "**Question:** (Poisson limit)\n",
    "\n",
    "Most camas flowers are blue, but a few are white.\n",
    "Suppose that each camas flower is white with probability 1/1000;\n",
    "write down and justify an approximate expression for the probability\n",
    "that a given patch of 4,000 camas flowers has no white ones."
   ]
  },
  {
   "cell_type": "markdown",
   "id": "0eb729d7-76b4-4823-862f-1c1e4db9887f",
   "metadata": {
    "slideshow": {
     "slide_type": ""
    },
    "tags": []
   },
   "source": [
    "**Question:**  (correlation)\n",
    "\n",
    "Suppose $X$ and $Y$ are normal(0,1) random variables; let $Z=X+Y$.\n",
    "\n",
    "(a) Show that $X$ is positively correlated with $Z$.\n",
    "\n",
    "(b) Find a number $a$ such that $X + aY$ is uncorrelated with Z.\n",
    "\n"
   ]
  },
  {
   "cell_type": "markdown",
   "id": "20bd364f",
   "metadata": {
    "slideshow": {
     "slide_type": ""
    },
    "tags": []
   },
   "source": [
    "**Question:** (correlation)\n",
    "\n",
    "Let $X$ be a random variable which takes on values $\\{-1, 0, 1\\}$ as follows:  $\\mathbb{P}(X=1)=\\frac{1}{4} = \\mathbb{P}(X=-1)=\\frac{1}{4}$, and $\\mathbb{P}(X=0) = \\frac{1}{2}$. \n",
    "\n",
    "Also, let $Y = X^2 - \\frac{1}{2}$.  Note that both $X$ and $Y$ have mean zero.\n",
    "\n",
    "(a) Explain why $X$ is uncorrelated with $Y$.  \n",
    "\n",
    "(b) Are $X$ and $Y$ independent?  (This question's probably too hard for a final exam question)."
   ]
  },
  {
   "cell_type": "markdown",
   "id": "4cad8906",
   "metadata": {},
   "source": [
    "**Question:** (multivariate normal)\n",
    "\n",
    "Let $M$ and $L$ be the matrices\n",
    "$$M=\\left[\\begin{matrix} 20 & 12 \\\\ 12 & 9\\end{matrix}\\right], \\qquad\n",
    "L = \\left[\\begin{matrix} 2 & 0 \\\\ 4 & 3\\end{matrix}\\right]$$ and observe that $M = LL^T$.\n",
    "Also let $X,Y$ be two independent $N(0,1)$ random variables.  \n",
    "\n",
    "Describe, in terms of $X$, $Y$, $L$, $M$, a multivariate random normal variable whose mean is $\\left[\\begin{matrix} 1  \\\\ 2 \\end{matrix}\\right]$\n",
    " and whose covariance matrix is $M$."
   ]
  },
  {
   "cell_type": "markdown",
   "id": "d6b23647",
   "metadata": {
    "editable": true,
    "slideshow": {
     "slide_type": ""
    },
    "tags": []
   },
   "source": [
    "**Question:** (Poisson model)\n",
    "\n",
    "It turns out that fruit are slightly radioactive - though some types of fruit are more radioactive than others.  A geiger counter placed in a fruit warehouse counts every time a piece of fruit gives off an alpha particle (as well as counting particles that come from background radiation).  Suppose that we keep a geiger counter in a fruit warehouse for several weeks; each week we make note of how many apples there are, how many bananas there are, and how many decays there are.  Describe a generalized linear model that we could fit to this data\n",
    "that would give us information about the relative rate at which apples and bananas decay (radioactively)."
   ]
  },
  {
   "cell_type": "markdown",
   "id": "8ad75ccd",
   "metadata": {
    "editable": true,
    "slideshow": {
     "slide_type": ""
    },
    "tags": []
   },
   "source": [
    "**Question:** (linear models)\n",
    "    \n",
    "Suppose we have a 20 by 3 data matrix $A$, with the columns representing height, number of leaves, and daily water intake of a tree.  The rows represent different plants.  \n",
    "\n",
    "We also have a (column) vector $v$ of the total mass of fruit that the plant produces.  We want to fit a linear model to the data, including fitting a $y$ intercept, using linear algebra - so as to predict fruit yield based on the varaibles.\n",
    "\n",
    "(a) What matrix equation do we solve, in order to do this?\n",
    "(b) What assumptions are we implicitly making about the residuals?\n",
    "\n"
   ]
  },
  {
   "cell_type": "code",
   "execution_count": null,
   "id": "00da1541",
   "metadata": {},
   "outputs": [],
   "source": []
  }
 ],
 "metadata": {
  "celltoolbar": "Tags",
  "kernelspec": {
   "display_name": "Python 3 (ipykernel)",
   "language": "python",
   "name": "python3"
  },
  "language_info": {
   "codemirror_mode": {
    "name": "ipython",
    "version": 3
   },
   "file_extension": ".py",
   "mimetype": "text/x-python",
   "name": "python",
   "nbconvert_exporter": "python",
   "pygments_lexer": "ipython3",
   "version": "3.12.9"
  }
 },
 "nbformat": 4,
 "nbformat_minor": 5
}
