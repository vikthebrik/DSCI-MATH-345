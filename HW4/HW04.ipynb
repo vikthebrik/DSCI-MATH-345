{
 "cells": [
  {
   "cell_type": "markdown",
   "id": "59742dcb",
   "metadata": {
    "editable": true,
    "slideshow": {
     "slide_type": ""
    },
    "tags": []
   },
   "source": [
    "# Homework 4: Statistics!\n",
    "\n",
    "*Instructions:*\n",
    "Please answer the following questions and submit your work\n",
    "by editing this jupyter notebook and submitting it on Canvas.\n",
    "Questions may involve math, programming, or neither,\n",
    "but you should make sure to *explain your work*:\n",
    "i.e., you should usually have a cell with at least a few sentences\n",
    "explaining what you are doing.\n",
    "\n",
    "Also, please be sure to always specify units of any quantities that have units,\n",
    "and label axes of plots (again, with units when appropriate)."
   ]
  },
  {
   "cell_type": "code",
   "execution_count": 26,
   "id": "03fe74bf",
   "metadata": {
    "editable": true,
    "slideshow": {
     "slide_type": ""
    },
    "tags": []
   },
   "outputs": [],
   "source": [
    "import numpy as np\n",
    "import matplotlib.pyplot as plt\n",
    "import scipy.stats\n",
    "rng = np.random.default_rng()"
   ]
  },
  {
   "cell_type": "markdown",
   "id": "859c6392-e41f-4bd6-b570-ac52dd1e0065",
   "metadata": {
    "editable": true,
    "slideshow": {
     "slide_type": ""
    },
    "tags": []
   },
   "source": [
    "# 1. A lot or a little\n",
    "\n",
    "You've recorded the amount of time 20 people spent looking at a particular piece of art in a museum, in seconds.\n",
    "Here are the values:"
   ]
  },
  {
   "cell_type": "code",
   "execution_count": 27,
   "id": "e9773397-2835-428d-8f2f-509268e104ee",
   "metadata": {
    "editable": true,
    "slideshow": {
     "slide_type": ""
    },
    "tags": []
   },
   "outputs": [],
   "source": [
    "art = np.array([  5.,  19., 313.,  45.,   1.,   1.,   3., 377., 597.,  52.,  90.,\n",
    "         0., 779., 107., 471., 131.,  81.,   4.,  57.,   0.])  # seconds"
   ]
  },
  {
   "cell_type": "markdown",
   "id": "704bdc83",
   "metadata": {},
   "source": [
    "*(a)* Use the method of moments to fit a Gamma distribution to these data.\n",
    "Be sure to simulate from the model you've fit to check you get qualitatively similar data.\n",
    "\n",
    "\n",
    "\n",
    "*(b)* The museum would like to know what proportion of people spend more than 5 minutes looking at this piece of art.\n",
    "Use your model fit in part (a) to provide an estimated answer to this question.\n",
    "Use math, and check the answer by simulation."
   ]
  },
  {
   "cell_type": "markdown",
   "id": "520bf375",
   "metadata": {},
   "source": [
    "###a.\n",
    "For a Gamma Distrubution:\n",
    "* If $X ~ Gamma(\\sigma, \\beta)$ then:\n",
    "    * $\\mathbb{E}[X] = \\alpha\\beta$\n",
    "    * $Var(X) = \\alpha\\beta^2$\n",
    "\n",
    "This means:\n",
    "\n",
    "$\\alpha = \\frac{{mean}^2}{variance}, \\beta = \\frac{variance}{mean}$\n",
    "\n",
    "After computing:\n",
    "\n",
    "* The est. shape param: $\\alpha \\approx 0.473$\n",
    "* The est. scale param. $\\beta \\approx 331.3$\n",
    "\n",
    "This means $X \\approx Gamma(\\alpha = 0.473, \\beta = 331.3)$\n",
    "\n",
    "From our actual and simulated values, we see the image of the histogram displays similar left side skewing with very minor variations in the tail end.\n",
    "###b.\n",
    "Since 5 minutes = 300 sec, we want:  $\\mathbb{P}(X > 300)$, where $X \\approx Gamma(0.473, 331.3)$\n",
    "\n"
   ]
  },
  {
   "cell_type": "code",
   "execution_count": 77,
   "id": "d90cefcb",
   "metadata": {
    "editable": true,
    "slideshow": {
     "slide_type": ""
    },
    "tags": []
   },
   "outputs": [
    {
     "name": "stdout",
     "output_type": "stream",
     "text": [
      "Mean: 156.65, Variance: 51898.23947368421\n",
      "Gamma(0.4728334284334055, 331.3006030876745)\n"
     ]
    },
    {
     "data": {
      "image/png": "[encoded data removed]",
      "text/plain": [
       "<Figure size 640x480 with 1 Axes>"
      ]
     },
     "metadata": {},
     "output_type": "display_data"
    },
    {
     "name": "stdout",
     "output_type": "stream",
     "text": [
      "Proportion > 300 sec via inverse CDF (math method): 0.16785\n",
      "Proportion > 300 sec via direct simulation (sampling method): 0.16649\n"
     ]
    }
   ],
   "source": [
    "from scipy.stats import gamma\n",
    "\n",
    "mean = art.mean()\n",
    "var  = np.var(art, ddof=1)\n",
    "alpha = mean**2 / var\n",
    "beta  = var / mean\n",
    "\n",
    "print(\"Mean: {}, Variance: {}\".format(mean, var))\n",
    "print(\"Gamma({}, {})\".format(alpha, beta))\n",
    "\n",
    "simulated_data = rng.gamma(alpha, beta, size=20)\n",
    "\n",
    "# Step 3: Plot\n",
    "plt.hist(art, bins=15, alpha=0.5, label=\"Actual Data\")\n",
    "plt.hist(simulated_data, bins=15, alpha=0.5, label=\"Simulated Gamma Data\")\n",
    "plt.xlabel(\"Time Spent (seconds)\")\n",
    "plt.ylabel(\"Frequency\")\n",
    "plt.title(\"Actual vs Simulated Art Viewing Times\")\n",
    "plt.legend()\n",
    "plt.show()\n",
    "\n",
    "# Correct the usage of gamma.ppf and gamma.rvs\n",
    "u = rng.uniform(0, 1, size=100000)\n",
    "gamma_samples_math = gamma.ppf(u, a=alpha, scale=beta)\n",
    "more_than_300_math = np.mean(gamma_samples_math > 300)\n",
    "\n",
    "gamma_samples_sim = gamma.rvs(a=alpha, scale=beta, size=100000)\n",
    "more_than_300_sim = np.mean(gamma_samples_sim > 300)\n",
    "\n",
    "print(f\"Proportion > 300 sec via inverse CDF (math method): {more_than_300_math}\")\n",
    "print(f\"Proportion > 300 sec via direct simulation (sampling method): {more_than_300_sim}\")\n"
   ]
  },
  {
   "cell_type": "markdown",
   "id": "dd7b8e0e",
   "metadata": {},
   "source": [
    "# 2. Looking at the logs\n",
    "\n",
    "You've been given data on login attempts to a certain server from Russian IP addresses\n",
    "were observed each hour across a day. Here are the numbers:"
   ]
  },
  {
   "cell_type": "code",
   "execution_count": 78,
   "id": "4e2fe221",
   "metadata": {
    "editable": true,
    "slideshow": {
     "slide_type": ""
    },
    "tags": []
   },
   "outputs": [],
   "source": [
    "logins = np.array([7,  5,  5,  7,  5,  3,  4,  5,  6,  8, 7,  8,  4,  4,  7,  7,  4,\n",
    "        4,  4,  6,  8,  4,  4,  6])"
   ]
  },
  {
   "cell_type": "markdown",
   "id": "274a2578",
   "metadata": {},
   "source": [
    "Use maximum likelihood to fit a Poisson distribution to these data.\n",
    "To do this, you should\n",
    "\n",
    "*(a)* evaluate the Poisson likelihood as a function of $\\lambda$, the mean of the Poisson,\n",
    "    across a grid of values between 0 and 10. Make a plot of these values or otherwise display them.\n",
    "\n",
    "*(b)* use an optimization function (like `scipy.optimize.minimize()`)\n",
    "to find the value of $\\lambda$ that maximizes the log-likelihood.\n",
    "    *(note: the `minimize` function works better if you use the log likelihood instead of the likelihood!)*\n",
    "\n",
    "*(c)* compare the data to simulations from the model you've fit.\n",
    "  and comment on how well the model fits\n",
    "  (for instance: are the data over- or under-dispersed relative to Poisson?).\n",
    "\n",
    "*(d)* Under this model, how often do we expect an hour with more than 8 logins?\n",
    "    Answer this question with math, and check it with simulation."
   ]
  },
  {
   "cell_type": "code",
   "execution_count": null,
   "id": "1e12b1a7",
   "metadata": {
    "editable": true,
    "slideshow": {
     "slide_type": ""
    },
    "tags": []
   },
   "outputs": [
    {
     "data": {
      "image/png": "[encoded data removed]",
      "text/plain": [
       "<Figure size 800x400 with 1 Axes>"
      ]
     },
     "metadata": {},
     "output_type": "display_data"
    },
    {
     "name": "stdout",
     "output_type": "stream",
     "text": [
      "(a) Estimated Poisson λ (mean login rate): 5.5000\n",
      "(b) Estimated λ via Maximum Likelihood: 5.5000\n",
      "Sample mean: 5.5\n",
      "Sample variance: 2.4347826086956523\n",
      "Fitted p: 2.258928571428571\n",
      "Fitted r: -9.868794326241135\n"
     ]
    },
    {
     "ename": "ValueError",
     "evalue": "Invalid p: 2.258928571428571",
     "output_type": "error",
     "traceback": [
      "\u001b[0;31m---------------------------------------------------------------------------\u001b[0m",
      "\u001b[0;31mValueError\u001b[0m                                Traceback (most recent call last)",
      "Cell \u001b[0;32mIn[97], line 65\u001b[0m\n\u001b[1;32m     63\u001b[0m \u001b[38;5;66;03m# Check bounds\u001b[39;00m\n\u001b[1;32m     64\u001b[0m \u001b[38;5;28;01mif\u001b[39;00m \u001b[38;5;129;01mnot\u001b[39;00m (\u001b[38;5;241m0\u001b[39m \u001b[38;5;241m<\u001b[39m p_hat \u001b[38;5;241m<\u001b[39m \u001b[38;5;241m1\u001b[39m):\n\u001b[0;32m---> 65\u001b[0m     \u001b[38;5;28;01mraise\u001b[39;00m \u001b[38;5;167;01mValueError\u001b[39;00m(\u001b[38;5;124mf\u001b[39m\u001b[38;5;124m\"\u001b[39m\u001b[38;5;124mInvalid p: \u001b[39m\u001b[38;5;132;01m{\u001b[39;00mp_hat\u001b[38;5;132;01m}\u001b[39;00m\u001b[38;5;124m\"\u001b[39m)\n\u001b[1;32m     66\u001b[0m \u001b[38;5;28;01mif\u001b[39;00m \u001b[38;5;129;01mnot\u001b[39;00m (r_hat \u001b[38;5;241m>\u001b[39m \u001b[38;5;241m0\u001b[39m):\n\u001b[1;32m     67\u001b[0m     \u001b[38;5;28;01mraise\u001b[39;00m \u001b[38;5;167;01mValueError\u001b[39;00m(\u001b[38;5;124mf\u001b[39m\u001b[38;5;124m\"\u001b[39m\u001b[38;5;124mInvalid r: \u001b[39m\u001b[38;5;132;01m{\u001b[39;00mr_hat\u001b[38;5;132;01m}\u001b[39;00m\u001b[38;5;124m\"\u001b[39m)\n",
      "\u001b[0;31mValueError\u001b[0m: Invalid p: 2.258928571428571"
     ]
    }
   ],
   "source": [
    "from scipy.stats import poisson, nbinom\n",
    "import scipy.optimize as optimize\n",
    "\n",
    "# ------------------------------------------------------------------------------\n",
    "# Part (a) Fit Poisson Distribution (Method of Moments)\n",
    "# ------------------------------------------------------------------------------\n",
    "# For Poisson, λ = sample mean\n",
    "lambda_hat = np.mean(logins)\n",
    "\n",
    "# Simulate 24 Poisson samples\n",
    "simulated_logins_poisson = poisson.rvs(mu=lambda_hat, size=24)\n",
    "\n",
    "# Plot actual vs Poisson simulated\n",
    "plt.figure(figsize=(8, 4))\n",
    "plt.hist(logins, bins=np.arange(-0.5, max(logins)+2), alpha=0.6, label=\"Actual Data\")\n",
    "plt.hist(simulated_logins_poisson, bins=np.arange(-0.5, max(simulated_logins_poisson)+2), alpha=0.6, label=\"Poisson Simulated\")\n",
    "plt.xlabel(\"Number of Login Attempts per Hour\")\n",
    "plt.ylabel(\"Frequency\")\n",
    "plt.title(\"Poisson Fit: Actual vs Simulated Login Attempts\")\n",
    "plt.legend()\n",
    "plt.show()\n",
    "\n",
    "print(f\"(a) Estimated Poisson λ (mean login rate): {lambda_hat:.4f}\")\n",
    "\n",
    "# ------------------------------------------------------------------------------\n",
    "# Part (b) Estimate P(X > 1) under Poisson\n",
    "# ------------------------------------------------------------------------------\n",
    "def neg_log_likelihood_smooth(lam, data):\n",
    "    if lam <= 0:\n",
    "        return 1e6\n",
    "    return -np.sum(poisson.logpmf(data, mu=lam))\n",
    "\n",
    "# Optimize\n",
    "result = optimize.minimize(neg_log_likelihood_smooth, x0=[1.0], args=(logins,), bounds=[(1e-5, None)])\n",
    "\n",
    "# Extract estimated λ\n",
    "lambda_mle = result.x[0]\n",
    "\n",
    "print(f\"(b) Estimated λ via Maximum Likelihood: {lambda_mle:.4f}\")\n",
    "\n",
    "# ------------------------------------------------------------------------------\n",
    "# Part (c) Fit Negative Binomial Distribution (Method of Moments)\n",
    "# ------------------------------------------------------------------------------\n"
   ]
  },
  {
   "cell_type": "markdown",
   "id": "97cd1565",
   "metadata": {
    "editable": true,
    "slideshow": {
     "slide_type": ""
    },
    "tags": []
   },
   "source": [
    "# 3. Modeling proportions\n",
    "\n",
    "The [Beta distribution](https://en.wikipedia.org/wiki/Beta_distribution)\n",
    "can be used to model *proportions:*\n",
    "it gives random numbers between 0 and 1,\n",
    "and has two parameters: $\\alpha$ and $\\beta$.\n",
    "If $X \\sim \\text{Beta}(\\alpha, \\beta)$ then\n",
    "$$ \\begin{aligned}\n",
    "    \\mathbb{E}[X] &= \\frac{\\alpha}{\\alpha + \\beta} \\\\\n",
    "    \\mathbb{E}[X^2] &= \\frac{\\alpha (\\alpha-1)}{(\\alpha + \\beta)(\\alpha + \\beta - 1)} ,\n",
    "\\end{aligned}$$\n",
    "and\n",
    "$X$ has probability density\n",
    "$$ f_X(u) =\n",
    "\\frac{ u^{\\alpha - 1}(1 - u)^{\\beta - 1} }{ B(\\alpha, \\beta) }.\n",
    "$$\n",
    "This density can be computed (as usual) with `scipy.stats.beta.pdf`,\n",
    "or by hand; in the latter case, $B(\\alpha, \\beta)$ can be computed with `scipy.special.beta`.\n",
    "\n",
    "Suppose we have data from many different tracts of forest\n",
    "of what proportion of the trees have burned,\n",
    "and we'd like to fit a Beta distribution to the data.\n",
    "These proportions are:"
   ]
  },
  {
   "cell_type": "code",
   "execution_count": null,
   "id": "a577b792",
   "metadata": {
    "editable": true,
    "slideshow": {
     "slide_type": ""
    },
    "tags": []
   },
   "outputs": [],
   "source": [
    "burned = np.array([\n",
    "    0.04, 0.55, 0.91, 0.64, 0.83, 0.62, 0.98, 0.7, 0.36, 0.73, 0.74, 0.28, 0.35, 0.65, 0.85, 0.9, 0.94,\n",
    "    0.11, 0.74, 0.48, 0.62, 0.66, 0.51, 0.79, 0.61, 0.66, 0.75, 0.86, 0.52, 0.84, 0.43, 0.61, 0.99, 0.85, \n",
    "    0.97, 0.46, 0.75, 0.61, 0.95, 0.76, 0.78, 0.89, 0.79, 0.92, 0.83, 0.84, 0.61, 0.52, 0.82, 0.87, 0.9, \n",
    "    0.58, 0.67, 0.42, 0.9, 0.4, 0.95, 0.98, 0.56, 0.94, 0.5, 0.84, 0.58, 0.91, 0.21, 0.54, 0.9, 0.64, 0.48,\n",
    "    0.82, 0.77, 0.63, 0.84, 0.97, 0.77, 0.96, 0.83, 0.9, 0.96, 0.52, 0.24, 0.92, 0.11, 0.96, 0.85, 0.62, \n",
    "    0.96, 0.67, 0.87, 0.78, 0.85, 0.88, 0.88, 0.68, 0.13, 0.9, 0.94, 0.49, 0.74, 0.99\n",
    "])"
   ]
  },
  {
   "cell_type": "markdown",
   "id": "c422d01a",
   "metadata": {
    "editable": true,
    "slideshow": {
     "slide_type": ""
    },
    "tags": []
   },
   "source": [
    "*(a)* Evaluate the likelihood surface for this data on a grid of values\n",
    "    across the range $0.5 \\le \\alpha, \\beta \\le 4$,\n",
    "    and make a plot or otherwise show the resulting likelihoods.\n",
    "\n",
    "*(b)* Estimate the values of $\\alpha$ and $\\beta$ that best fit the data\n",
    "    by maximum likelihood.\n",
    "    (*Note:* `scipy.optimize.minimize()` may have difficulty converging;\n",
    "    if so, try different starting locations.)\n",
    "    \n",
    "*(c)* Using this model, in what proportion of forest tracts\n",
    "    do you estimate less than 20% of the trees have burned?"
   ]
  }
 ],
 "metadata": {
  "celltoolbar": "Tags",
  "kernelspec": {
   "display_name": "Python 3",
   "language": "python",
   "name": "python3"
  },
  "language_info": {
   "codemirror_mode": {
    "name": "ipython",
    "version": 3
   },
   "file_extension": ".py",
   "mimetype": "text/x-python",
   "name": "python",
   "nbconvert_exporter": "python",
   "pygments_lexer": "ipython3",
   "version": "3.10.15"
  }
 },
 "nbformat": 4,
 "nbformat_minor": 5
}
