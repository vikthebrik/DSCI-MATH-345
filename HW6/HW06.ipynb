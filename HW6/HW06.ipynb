{
 "cells": [
  {
   "cell_type": "markdown",
   "id": "59742dcb",
   "metadata": {
    "editable": true,
    "slideshow": {
     "slide_type": ""
    },
    "tags": []
   },
   "source": [
    "# Homework 6: Correlations.\n",
    "\n",
    "*Instructions:*\n",
    "Please answer the following questions and submit your work\n",
    "by editing this jupyter notebook and submitting it on Canvas.\n",
    "Questions may involve math, programming, or neither,\n",
    "but you should make sure to *explain your work*:\n",
    "i.e., you should usually have a cell with at least a few sentences\n",
    "explaining what you are doing.\n",
    "\n",
    "Also, please be sure to always specify units of any quantities that have units,\n",
    "and label axes of plots (again, with units when appropriate)."
   ]
  },
  {
   "cell_type": "code",
   "execution_count": 2,
   "id": "03fe74bf",
   "metadata": {
    "editable": true,
    "slideshow": {
     "slide_type": ""
    },
    "tags": []
   },
   "outputs": [],
   "source": [
    "import numpy as np\n",
    "import matplotlib.pyplot as plt\n",
    "rng = np.random.default_rng()"
   ]
  },
  {
   "cell_type": "markdown",
   "id": "9497dfc8",
   "metadata": {
    "editable": true,
    "slideshow": {
     "slide_type": ""
    },
    "tags": []
   },
   "source": [
    "# 1. Ever Upwards\n",
    "\n",
    "You are part of a team aiming to predict future costs for a coffee shop,\n",
    "and are given the following model.\n",
    "Let $X_0 = \\$1.50$ be the price (to the shop) of a cup of coffee today,\n",
    "and model the price $n$ weeks from now as $X_n = X_{n-1} + Z_n$,\n",
    "where each $Z_n$ has a Normal distribution with mean \\\\$0.10 and standard deviation \\\\$0.10,\n",
    "and is independent of other $Z$.\n",
    "We want to see how well we can predict prices for the next 10 weeks under this model.\n",
    "\n",
    "*(a)* If we define $Z = (Z_1, Z_2, \\ldots, Z_{10})$,\n",
    "    and $X = (X_1, X_2, \\ldots, X_{10})$,\n",
    "    then (taking $X$ and $Z$ to be column vectors)\n",
    "    we can write $X = X_0 + AZ$ for some matrix $A$.\n",
    "    What is that matrix?\n",
    "\n",
    "*(b)* What is the mean and covariance matrix of $X$?\n",
    "    Explain, and check by simulation."
   ]
  },
  {
   "cell_type": "markdown",
   "id": "edc53423-09b9-431b-a8e2-b2dfa9ce5ab6",
   "metadata": {
    "editable": true,
    "slideshow": {
     "slide_type": ""
    },
    "tags": []
   },
   "source": [
    "###a\n",
    "Breakdown of the matrix A:\n",
    "* $X_1 = X_0 + Z_1$\n",
    "* $X_2 = X_0 + Z_1 + Z_2$\n",
    "* $X_3 = X_0 + Z_1 + Z_2 + Z_3$\n",
    "* . . .\n",
    "* $X_n = X_0 + \\Sigma_n^{i =1}Z_i$\n",
    "i, and 0s after that.\n",
    "\n",
    "So, A is a lower triangular matrix of size 10x10 where each row i has 1s from col 1 to i, and 0s after that.\n",
    "\n",
    "###b\n",
    "Mean of X:\n",
    "\n",
    "$\\mathbb{E}[X] = X_0 + A \\cdot \\mathbb{E}[Z]$\n",
    "\n",
    "Since $\\mathbb{E}[Z_i] = 0.10 \\text{ , then } \\mathbb{E}[Z] = 0.10 \\text{(a 10D vector of 0.10s )}$\n",
    "\n",
    "$\\mathbb{E}[X] = 1.5 + A \\cdot 0.10$\n",
    "\n",
    "Covariance of X:\n",
    "\n",
    "Since $Cov(Z) = 0.01 \\cdot I $, then:\n",
    "\n",
    "$\\text{Cov(X)} = A \\cdot \\text{Cov(Z)} * A^T =0.1 * AA^T$"
   ]
  },
  {
   "cell_type": "code",
   "execution_count": 14,
   "id": "4af62335",
   "metadata": {},
   "outputs": [
    {
     "name": "stdout",
     "output_type": "stream",
     "text": [
      "[[1. 0. 0. 0. 0. 0. 0. 0. 0. 0.]\n",
      " [1. 1. 0. 0. 0. 0. 0. 0. 0. 0.]\n",
      " [1. 1. 1. 0. 0. 0. 0. 0. 0. 0.]\n",
      " [1. 1. 1. 1. 0. 0. 0. 0. 0. 0.]\n",
      " [1. 1. 1. 1. 1. 0. 0. 0. 0. 0.]\n",
      " [1. 1. 1. 1. 1. 1. 0. 0. 0. 0.]\n",
      " [1. 1. 1. 1. 1. 1. 1. 0. 0. 0.]\n",
      " [1. 1. 1. 1. 1. 1. 1. 1. 0. 0.]\n",
      " [1. 1. 1. 1. 1. 1. 1. 1. 1. 0.]\n",
      " [1. 1. 1. 1. 1. 1. 1. 1. 1. 1.]]\n",
      "Simulated Mean:\n",
      " [1.59983032 1.69835342 1.79885885 1.89797832 1.99807887 2.0966859\n",
      " 2.19595211 2.29614483 2.39640544 2.49700212]\n",
      "\n",
      "Theoretical Mean:\n",
      " [1.6 1.7 1.8 1.9 2.  2.1 2.2 2.3 2.4 2.5]\n",
      "\n",
      "Simulated Covariance Matrix:\n",
      " [[0.0102 0.0101 0.0101 0.01   0.01   0.0099 0.0098 0.0098 0.0099 0.0098]\n",
      " [0.0101 0.0199 0.02   0.0199 0.0201 0.02   0.02   0.0201 0.0205 0.0205]\n",
      " [0.0101 0.02   0.03   0.0301 0.0303 0.03   0.0298 0.0301 0.0304 0.0303]\n",
      " [0.01   0.0199 0.0301 0.0403 0.0403 0.0399 0.0397 0.0399 0.0405 0.0404]\n",
      " [0.01   0.0201 0.0303 0.0403 0.0504 0.0501 0.05   0.0503 0.0507 0.0505]\n",
      " [0.0099 0.02   0.03   0.0399 0.0501 0.0598 0.0596 0.0599 0.0604 0.0603]\n",
      " [0.0098 0.02   0.0298 0.0397 0.05   0.0596 0.0695 0.0698 0.0704 0.0703]\n",
      " [0.0098 0.0201 0.0301 0.0399 0.0503 0.0599 0.0698 0.0804 0.0808 0.0807]\n",
      " [0.0099 0.0205 0.0304 0.0405 0.0507 0.0604 0.0704 0.0808 0.0911 0.0912]\n",
      " [0.0098 0.0205 0.0303 0.0404 0.0505 0.0603 0.0703 0.0807 0.0912 0.1011]]\n",
      "\n",
      "Theoretical Covariance Matrix:\n",
      " [[0.01 0.01 0.01 0.01 0.01 0.01 0.01 0.01 0.01 0.01]\n",
      " [0.01 0.02 0.02 0.02 0.02 0.02 0.02 0.02 0.02 0.02]\n",
      " [0.01 0.02 0.03 0.03 0.03 0.03 0.03 0.03 0.03 0.03]\n",
      " [0.01 0.02 0.03 0.04 0.04 0.04 0.04 0.04 0.04 0.04]\n",
      " [0.01 0.02 0.03 0.04 0.05 0.05 0.05 0.05 0.05 0.05]\n",
      " [0.01 0.02 0.03 0.04 0.05 0.06 0.06 0.06 0.06 0.06]\n",
      " [0.01 0.02 0.03 0.04 0.05 0.06 0.07 0.07 0.07 0.07]\n",
      " [0.01 0.02 0.03 0.04 0.05 0.06 0.07 0.08 0.08 0.08]\n",
      " [0.01 0.02 0.03 0.04 0.05 0.06 0.07 0.08 0.09 0.09]\n",
      " [0.01 0.02 0.03 0.04 0.05 0.06 0.07 0.08 0.09 0.1 ]]\n"
     ]
    }
   ],
   "source": [
    "# Question 1a)\n",
    "# Create the A matrix\n",
    "n = 10\n",
    "A = np.tril(np.ones((n, n)))\n",
    "print(A)\n",
    "\n",
    "\n",
    "# Question 1b)\n",
    "# Parameters\n",
    "X0 = 1.5\n",
    "mu_Z = 0.10\n",
    "sigma_Z = 0.10\n",
    "n_samples = 10000\n",
    "# Simulate Z and compute X = X0 + A @ Z\n",
    "Z_samples = rng.normal(loc=mu_Z, scale=sigma_Z, size=(10, n_samples))\n",
    "X_samples = X0 + A @ Z_samples\n",
    "\n",
    "# Sample mean and covariance\n",
    "mean_X_sim = np.mean(X_samples, axis=1)\n",
    "cov_X_sim = np.cov(X_samples)\n",
    "\n",
    "# Theoretical mean and covariance\n",
    "mean_X_theory = X0 + A @ np.full(10, mu_Z)\n",
    "cov_X_theory = (sigma_Z**2) * A @ A.T\n",
    "\n",
    "# Show results\n",
    "print(\"Simulated Mean:\\n\", mean_X_sim)\n",
    "print(\"\\nTheoretical Mean:\\n\", mean_X_theory)\n",
    "\n",
    "print(\"\\nSimulated Covariance Matrix:\\n\", np.round(cov_X_sim, 4))\n",
    "print(\"\\nTheoretical Covariance Matrix:\\n\", np.round(cov_X_theory, 4))\n"
   ]
  },
  {
   "cell_type": "markdown",
   "id": "3ad3a76c",
   "metadata": {},
   "source": [
    "# 2. Books by a different name\n",
    "\n",
    "In class, we did PCA on word count data from passages from three books. The passages are in the file [data/passages.txt](https://uodsci.github.io/dsci345/class_material/fall_2022/homeworks/data/passages.txt) and the sources of each passage are in [data/passage_sources.tsv](https://uodsci.github.io/dsci345/class_material/fall_2022/homeworks/data/passage_sources.tsv). Repeat the analysis. You may use the same code from class to read in and process the data,\n",
    "but you should *use [scikit-learn](https://scikit-learn.org/stable/modules/generated/sklearn.decomposition.PCA.html)* to do the PCA.  Your results should be similar but not the same as those from class, since scikit-learn's implementation differs somewhat. Also, you don't need to show everything that we did in class\n",
    "(use your judgement) but we encourage you to explore.\n",
    "\n",
    "*Note:* part of this question is to figure out how what another method gives you maps on to what we discussed in class. Big clues are provided by the sizes of various outputs."
   ]
  },
  {
   "cell_type": "markdown",
   "id": "7cc84d22-9abc-466a-8498-980d93f32251",
   "metadata": {
    "editable": true,
    "slideshow": {
     "slide_type": ""
    },
    "tags": []
   },
   "source": [
    "# 3. The Matrix\n",
    "\n",
    "The secret vault can only be unlocked by a stream of numbers satisfying certain statistical properties.\n",
    "You can pass in 5 floating-point numbers at a time,\n",
    "and each set of 5 must be related to eachother in the following way:\n",
    "they should be Normally distributed with mean zero and the ($5 \\times 5$) covariance matrix:\n",
    "$$\\begin{aligned}\n",
    "    M_{ij} = (1+i+j) \\times 2^{-|i-j|} \\qquad \\text{for } 1 \\le j \\le 5, \\quad 1 \\le i \\le 5 .\n",
    "\\end{aligned}$$\n",
    "Write a function to produce a random set of 5 numbers of this form,\n",
    "and test the result by verifying that (a) $\\text{var}[X_2] = 5$ and\n",
    "(b) $\\text{cov}[X_3,X_5] = 2.25$."
   ]
  },
  {
   "cell_type": "code",
   "execution_count": 15,
   "id": "1cf87e01-f017-4d9a-a9d1-5f72fc44aedb",
   "metadata": {
    "editable": true,
    "slideshow": {
     "slide_type": ""
    },
    "tags": []
   },
   "outputs": [
    {
     "ename": "NameError",
     "evalue": "name 'C' is not defined",
     "output_type": "error",
     "traceback": [
      "\u001b[0;31m---------------------------------------------------------------------------\u001b[0m",
      "\u001b[0;31mNameError\u001b[0m                                 Traceback (most recent call last)",
      "Cell \u001b[0;32mIn[15], line 2\u001b[0m\n\u001b[1;32m      1\u001b[0m i, j \u001b[38;5;241m=\u001b[39m \u001b[38;5;241m3\u001b[39m, \u001b[38;5;241m5\u001b[39m\n\u001b[0;32m----> 2\u001b[0m \u001b[38;5;28mprint\u001b[39m(\u001b[43mC\u001b[49m[\u001b[38;5;241m3\u001b[39m\u001b[38;5;241m-\u001b[39m\u001b[38;5;241m1\u001b[39m, \u001b[38;5;241m5\u001b[39m\u001b[38;5;241m-\u001b[39m\u001b[38;5;241m1\u001b[39m], (\u001b[38;5;241m1\u001b[39m \u001b[38;5;241m+\u001b[39m i \u001b[38;5;241m+\u001b[39m j) \u001b[38;5;241m*\u001b[39m (\u001b[38;5;241m2\u001b[39m \u001b[38;5;241m*\u001b[39m\u001b[38;5;241m*\u001b[39m (\u001b[38;5;241m-\u001b[39m\u001b[38;5;241m1.0\u001b[39m\u001b[38;5;241m*\u001b[39mnp\u001b[38;5;241m.\u001b[39mabs(i\u001b[38;5;241m-\u001b[39mj))), \u001b[38;5;241m2.25\u001b[39m)\n\u001b[1;32m      3\u001b[0m \u001b[38;5;28;01massert\u001b[39;00m np\u001b[38;5;241m.\u001b[39misclose(C[\u001b[38;5;241m3\u001b[39m\u001b[38;5;241m-\u001b[39m\u001b[38;5;241m1\u001b[39m, \u001b[38;5;241m5\u001b[39m\u001b[38;5;241m-\u001b[39m\u001b[38;5;241m1\u001b[39m], (\u001b[38;5;241m1\u001b[39m \u001b[38;5;241m+\u001b[39m i \u001b[38;5;241m+\u001b[39m j) \u001b[38;5;241m*\u001b[39m (\u001b[38;5;241m2\u001b[39m \u001b[38;5;241m*\u001b[39m\u001b[38;5;241m*\u001b[39m (\u001b[38;5;241m-\u001b[39m\u001b[38;5;241m1.0\u001b[39m\u001b[38;5;241m*\u001b[39mnp\u001b[38;5;241m.\u001b[39mabs(i\u001b[38;5;241m-\u001b[39mj))))\n\u001b[1;32m      4\u001b[0m \u001b[38;5;28;01massert\u001b[39;00m C[\u001b[38;5;241m3\u001b[39m\u001b[38;5;241m-\u001b[39m\u001b[38;5;241m1\u001b[39m, \u001b[38;5;241m5\u001b[39m\u001b[38;5;241m-\u001b[39m\u001b[38;5;241m1\u001b[39m] \u001b[38;5;241m==\u001b[39m  \u001b[38;5;241m2.25\u001b[39m\n",
      "\u001b[0;31mNameError\u001b[0m: name 'C' is not defined"
     ]
    }
   ],
   "source": [
    "i, j = 3, 5\n",
    "print(C[3-1, 5-1], (1 + i + j) * (2 ** (-1.0*np.abs(i-j))), 2.25)\n",
    "assert np.isclose(C[3-1, 5-1], (1 + i + j) * (2 ** (-1.0*np.abs(i-j))))\n",
    "assert C[3-1, 5-1] ==  2.25\n",
    "i = j = 2\n",
    "print(C[2-1, 2-1], (1 + i + j) * (2 ** (-1.0*np.abs(i-j))), 5.0)\n",
    "assert C[2-1, 2-1] ==  5"
   ]
  }
 ],
 "metadata": {
  "celltoolbar": "Tags",
  "kernelspec": {
   "display_name": "Python 3",
   "language": "python",
   "name": "python3"
  },
  "language_info": {
   "codemirror_mode": {
    "name": "ipython",
    "version": 3
   },
   "file_extension": ".py",
   "mimetype": "text/x-python",
   "name": "python",
   "nbconvert_exporter": "python",
   "pygments_lexer": "ipython3",
   "version": "3.10.15"
  }
 },
 "nbformat": 4,
 "nbformat_minor": 5
}
